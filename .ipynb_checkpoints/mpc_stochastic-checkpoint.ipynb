{
 "cells": [
  {
   "cell_type": "code",
   "execution_count": 1,
   "id": "bbaa4f7e-6a5b-4212-8382-4b86f7dcde11",
   "metadata": {},
   "outputs": [],
   "source": [
    "# Required packages\n",
    "import numpy as np\n",
    "import pandas as pd \n",
    "import matplotlib.pyplot as plt\n",
    "from pylab import *\n",
    "from casadi import *\n",
    "import time"
   ]
  },
  {
   "cell_type": "markdown",
   "id": "2fabab36-e68c-4722-b549-a0cad8474030",
   "metadata": {},
   "source": []
  },
  {
   "cell_type": "code",
   "execution_count": 2,
   "id": "107dcfe5-52b4-46a6-b06c-bc809543caf8",
   "metadata": {},
   "outputs": [],
   "source": [
    "#Parameters\n",
    "normalization =1e6 \n",
    "δ  = 0.02 #discount rate\n",
    "α  = 0.045007414 #carbon absorption\n",
    "κ  = 2.094215255 # agricultural carbon  production\n",
    "pe = 5.15 #price of emissions\n",
    "ζ  = 1.66e-4 * normalization #adjustments cost net of normalization\n",
    "p1 = 38.29988757 # low price of agricluture\n",
    "p2 = 44.75876047 # high price of agriculture "
   ]
  },
  {
   "cell_type": "code",
   "execution_count": null,
   "id": "449f22fc-8b7c-4e80-b2fe-2b187ae40c8e",
   "metadata": {},
   "outputs": [],
   "source": []
  },
  {
   "cell_type": "code",
   "execution_count": 3,
   "id": "2efb072a-9ee4-422c-a3b0-47fd2ca0ec3e",
   "metadata": {},
   "outputs": [],
   "source": [
    "#Probability Matrix\n",
    "from scipy.linalg import logm, expm\n",
    "dτ=1 # time step \n",
    "P = np.matrix([[0.982758621, 0.017241379],[0.012578616, 0.987421384]]) #probability transition matrix\n",
    "M = logm(P)/dτ # instantenous generator\n",
    "m1 = M[0,1] \n",
    "m2 = M[1,0]"
   ]
  },
  {
   "cell_type": "markdown",
   "id": "1dad023f-9f2d-472f-ae70-6935352c12f7",
   "metadata": {},
   "source": [
    "Let us begin with a definition of the important state vectors\n",
    "\\begin{array}{llll}\n",
    "Z_t &  := & (Z_t^1, Z_t^2, ..., Z_t^I) & \\textrm{ vector of area used for agriculture expressed in hectares} \\cr\n",
    "X_t & := & (X_t^1, X_t^2, ..., X_t^I) & \\textrm{ vector of carbon captured expressed in Mg CO2e (CO2 equivalent)  } \\cr\n",
    "A_t & := & (A_t^1, A_t^2, ..., A_t^I) & \\textrm{ vector of agricultural output} \n",
    "\\end{array}\n",
    "where\n",
    "$$\n",
    "0 \\le Z_t^i \\le {\\bar z}_i\n",
    "$$\n",
    "and define\n",
    "$$\n",
    "\\tilde X_t = \\sum_i^I X_t^i\n",
    "$$"
   ]
  },
  {
   "cell_type": "code",
   "execution_count": 4,
   "id": "a2673bf9-4bdd-4621-8a88-34740ff5bc3a",
   "metadata": {},
   "outputs": [],
   "source": [
    "#Site Data\n",
    "df = pd.read_csv(\"data/calibration_globalModel.csv\") # dataset\n",
    "df = df.sort_values(by=['theta_global'])\n",
    "z0_list = df['z_2017_global'].to_numpy() # initial distribution of agriculture\n",
    "γ_list  = df['gamma_global'].to_numpy() #  distribution of gammas (aka impact of cutting down forests)\n",
    "x0_list = df['x_2017_global'].to_numpy() # initial distribution of carbon absoprtion of the amazon\n",
    "θ_list  = df['theta_global'].to_numpy() #  distribution of the productivity parameters\n",
    "\n",
    "Z0_list = z0_list/ normalization\n",
    "X0_list = x0_list/ normalization\n",
    "\n",
    "z̄ = (df['zbar_2017_global'].to_numpy() )/normalization # distribution of the upper bound of agriculture in each site\n",
    "n = len(z̄) # total number of sites "
   ]
  },
  {
   "cell_type": "markdown",
   "id": "0d8c7c7e-1252-43e4-89b9-1a2bf691ad3c",
   "metadata": {},
   "source": [
    "Let us define the state variable vector \n",
    "\n",
    "$$\n",
    "Y_t = \\begin{bmatrix}\n",
    "Z^1_t\\\\\n",
    "Z^2_t\\\\\n",
    "\\vdots\\\\\n",
    "Z^I_t\\\\\n",
    "\\tilde X_t\\\\\n",
    "1\n",
    "\\end{bmatrix}\n",
    "$$\n",
    "\n",
    "where we have the following laws of motion\n",
    "\n",
    "$$\n",
    "{\\dot X}_t^i  = - \\gamma^i U^i_t - \\alpha \\left[ X_t^i - \\gamma^i  \\left( {{\\bar z}^i - Z_t^i }  \\right) \\right] \n",
    "$$\n",
    "\n",
    "$$\n",
    "\\dot Z_t^i = U_t^i - V_t^i \n",
    "$$\n",
    "\n",
    "where $U_t^i \\geq 0$ and $V_t^i \\geq 0$ are controls and it is useful to define\n",
    "\n",
    "$$\n",
    "U_t :=(U_t^1, U_t^2, ..., U_t^I)  \\textrm{ vector increases in agriculture} \n",
    "$$\n",
    "\n",
    "We can rewrite the law of motion into the following\n",
    "$$\n",
    "\\dot Y_t = A Y_t + B \\dot Z_t +D U_t\n",
    "$$\n",
    "We will define the matrices $A$, $B$ and $D$ below\n"
   ]
  },
  {
   "cell_type": "markdown",
   "id": "1f176568-c42a-417d-8970-04d6279aae88",
   "metadata": {},
   "source": [
    "The code below defines the matrix of $A$, which is the following\n",
    "\n",
    "$$\n",
    "A := \\begin{bmatrix}\n",
    "0 & 0 & 0 & \\dots & 0 & 0  & 0\\\\\n",
    "\\vdots &\\vdots &\\vdots &\\vdots &\\vdots  &\\vdots  &\\vdots\\\\\n",
    "0 & 0 & 0 & \\dots & 0 & 0 & 0\\\\\n",
    "-\\alpha \\gamma^1 & -\\alpha \\gamma^2 & -\\alpha \\gamma^3 & \\dots & -\\alpha \\gamma^I & -\\alpha  & \\alpha \\sum_i \\gamma^i \\bar z^i\\\\\n",
    "0 & 0 & 0 & \\dots & 0 & 0  & 0\n",
    "\\end{bmatrix}\n",
    "$$"
   ]
  },
  {
   "cell_type": "code",
   "execution_count": 5,
   "id": "e51e9340-3cb2-4ab6-a0ff-a552618222b2",
   "metadata": {},
   "outputs": [],
   "source": [
    "#Construct Matrix A\n",
    "Az = np.zeros((n, n+2))\n",
    "Ax = np.zeros((1, n+2-0))\n",
    "\n",
    "Ax[0,0:n-0] = -α *γ_list[0:n]\n",
    "Ax[0, -1] = np.sum(α*γ_list[0:n] * z̄[0:n])\n",
    "Ax[0,-2]  = -α\n",
    "\n",
    "A  = np.concatenate((Az, Ax, np.zeros((1, n+2-0))), axis=0)"
   ]
  },
  {
   "cell_type": "markdown",
   "id": "e41c091e-5899-494e-80a8-e0ebfdb9fc0c",
   "metadata": {},
   "source": [
    "The cdoe below define the matrix of $B$, which is the following\n",
    "\n",
    "$$\n",
    "B = \\begin{bmatrix}\n",
    "1 & 0 & 0 & \\dots & 0 & 0 & 0\\\\\n",
    "\\vdots &\\vdots &\\vdots &\\vdots &\\vdots &\\vdots &\\vdots\\\\\n",
    "0 & 0 & 0 & \\dots & 0 & 0 & 1\\\\\n",
    "0 & 0 & 0 & \\dots & 0 & 0 & 0\\\\\n",
    "0 & 0 & 0 & \\dots & 0 & 0 & 0\\\\\n",
    "0 & 0 & 0 & \\dots & 0 & 0 & 0\n",
    "\\end{bmatrix}\n",
    "$$"
   ]
  },
  {
   "cell_type": "code",
   "execution_count": 6,
   "id": "5a66b7b2-0372-4895-ab75-6c932599c492",
   "metadata": {},
   "outputs": [],
   "source": [
    "# Construct Matrix B\n",
    "Bz = np.identity((n-0))\n",
    "Bx = (np.zeros((1,n-0)))\n",
    "\n",
    "B  = np.concatenate((Bz, Bx,  np.zeros((1, n-0))), axis=0)"
   ]
  },
  {
   "cell_type": "markdown",
   "id": "fcdca874-8eee-4748-a4d1-3a6ea2766129",
   "metadata": {},
   "source": [
    "The code below defines the matrix of $D$, which si the following\n",
    "$$\n",
    "D := \\begin{bmatrix}\n",
    "0 & 0 & 0 & \\dots & 0 & 0 & 0\\\\\n",
    "\\vdots &\\vdots &\\vdots &\\vdots &\\vdots &\\vdots &\\vdots\\\\\n",
    "0 & 0 & 0 & \\dots & 0 & 0 & 0\\\\\n",
    "-\\gamma_1 & -\\gamma_2 & -\\gamma_3 & \\dots & -\\gamma_{I-2} & -\\gamma_{I-1} & -\\gamma_{I}\\\\\n",
    "0 & 0 & 0 & \\dots & 0 & 0 & 0\n",
    "\\end{bmatrix}\n",
    "$$"
   ]
  },
  {
   "cell_type": "code",
   "execution_count": 7,
   "id": "efe404df-1153-4b9f-a379-222a5c9e128c",
   "metadata": {},
   "outputs": [],
   "source": [
    "# Construct Matrix B\n",
    "Dz =   np.zeros((n-0,n-0))\n",
    "Dx = -(np.ones((1,n-0))*γ_list[0:n])\n",
    "\n",
    "D  = np.concatenate((Dz, Dx, np.zeros((1, n-0))), axis=0)"
   ]
  },
  {
   "cell_type": "markdown",
   "id": "f54b98e4-f3aa-433b-ac5f-d54023c87d87",
   "metadata": {},
   "source": []
  },
  {
   "cell_type": "code",
   "execution_count": 8,
   "id": "7e6c5756-91e5-4ac8-945c-0568fdfe7f0e",
   "metadata": {},
   "outputs": [],
   "source": [
    "T   = 200 \n",
    "N   = T \n",
    "N_u = 2\n",
    "\n",
    "dt = T/N\n",
    "Y  = MX.sym('Y',n+2) \n",
    "up = MX.sym('u',n) \n",
    "um = MX.sym('u',n) \n",
    "\n",
    "rhs = sparsify(A)@Y + sparsify(B)@(up-um) + sparsify(D)@(up) + Y\n",
    "F = Function('f', [Y, um, up],[rhs])\n"
   ]
  },
  {
   "cell_type": "markdown",
   "id": "e208dd2f-ca0c-41aa-8deb-840757c5de6a",
   "metadata": {},
   "source": []
  },
  {
   "cell_type": "code",
   "execution_count": 9,
   "id": "9677b661-1aad-4bcb-a31d-b8d3b4165a84",
   "metadata": {},
   "outputs": [],
   "source": [
    "\n",
    "import math\n",
    "ds_vect = np.zeros((N+1,1))\n",
    "for i in range(N+1):\n",
    "    ds_vect[i]=math.exp(-δ*i*dt)\n",
    "    \n",
    "P= expm(M*dt)"
   ]
  },
  {
   "cell_type": "code",
   "execution_count": 10,
   "id": "74bc20ad-48cb-4d72-8963-c72ec33dbb91",
   "metadata": {},
   "outputs": [],
   "source": [
    "import itertools\n",
    "markov_array = np.array(list(itertools.product([0, 1], repeat=N_u)))"
   ]
  },
  {
   "cell_type": "code",
   "execution_count": 11,
   "id": "7f49af07-7be2-4f0f-91a4-c25485d7f413",
   "metadata": {},
   "outputs": [],
   "source": [
    "price_matrix = np.zeros((len(markov_array),T+1))\n",
    "price_matrix[:, 0:N_u] = markov_array\n",
    "\n",
    "for i in range((2**N_u)):\n",
    "    price_matrix[i,N_u:] = markov_array[i,-1]\n",
    "    \n",
    "price_matrix[price_matrix==0] = p1\n",
    "price_matrix[price_matrix==1] = p2"
   ]
  },
  {
   "cell_type": "code",
   "execution_count": 12,
   "id": "51c93d00-cb97-4cfa-9d57-2b48a097b7b4",
   "metadata": {},
   "outputs": [],
   "source": [
    "prob_matrix = np.zeros((2**N_u,1))\n",
    "for i in range(len(markov_array)):\n",
    "    prob_temp = 1 \n",
    "    for j in range(N_u-1):\n",
    "        if markov_array[i,j] ==0:\n",
    "            if markov_array[i,j + 1] == 0:\n",
    "                prob_temp = prob_temp*P[0,0] \n",
    "            elif markov_array[i,j + 1] ==1:\n",
    "                prob_temp= prob_temp*P[0,1] \n",
    "        elif markov_array[i,j] == 1:\n",
    "            if markov_array[i,j + 1] ==0:\n",
    "                prob_temp= prob_temp*P[1,0] \n",
    "            elif markov_array[i,j + 1] ==1:\n",
    "                prob_temp= prob_temp*P[1,1] \n",
    "    prob_matrix[i] =  prob_temp"
   ]
  },
  {
   "cell_type": "code",
   "execution_count": null,
   "id": "3048d3e1-a07a-4fcd-bbf1-600e71d80754",
   "metadata": {},
   "outputs": [],
   "source": []
  },
  {
   "cell_type": "code",
   "execution_count": 13,
   "id": "7b3754e5-291b-47f6-b463-210374b23242",
   "metadata": {},
   "outputs": [],
   "source": [
    "opti = casadi.Opti()"
   ]
  },
  {
   "cell_type": "code",
   "execution_count": 14,
   "id": "f60d5496-20d4-45f0-a105-58edb2df48b4",
   "metadata": {},
   "outputs": [],
   "source": [
    "def state_constructor(opti, N_u): \n",
    "    # Decision variables for states\n",
    "    Up=[]\n",
    "    Um=[]\n",
    "    Ua=[]\n",
    "    X =[]\n",
    "\n",
    "    for p in range(2**(N_u-1)):\n",
    "        Up = Up + [opti.variable(n   , N)]\n",
    "        Um = Um + [opti.variable(n   , N)]\n",
    "        Ua = Ua + [opti.variable(1   , N)]\n",
    "        X  = X  + [opti.variable(n+2 , N+1)]\n",
    "\n",
    "    for i in range(2**(N_u-1)):\n",
    "        for k in range(N):\n",
    "            opti.subject_to(X[i][:,k+1]\n",
    "                            == F(X[i][:,k]  ,Um[i][:,k],Up[i][:,k])) \n",
    "\n",
    "    for p in range(2**(N_u-1)):\n",
    "        opti.subject_to(Ua[p] == sum1(Up[p]+Um[p])**2 )\n",
    "    \n",
    "    ic = opti.parameter(n+2,1)\n",
    "    for i in range(2**(N_u-1)):\n",
    "        opti.subject_to(X[i][:,0] == ic)\n",
    "\n",
    "    for i in range(2**(N_u-1)):\n",
    "        opti.subject_to(opti.bounded(0,X [i][0:n,:],z̄  ))\n",
    "        opti.subject_to(opti.bounded(0,Um[i][:  ,:],inf))\n",
    "        opti.subject_to(opti.bounded(0,Up[i][:  ,:],inf))\n",
    "\n",
    "\n",
    "    return X, Up,Um, Ua, ic  "
   ]
  },
  {
   "cell_type": "code",
   "execution_count": 15,
   "id": "2b3f1459-c163-47d4-98f4-0d2930b16203",
   "metadata": {},
   "outputs": [],
   "source": [
    "X, Up,Um, Ua, ic  = state_constructor(opti, N_u)"
   ]
  },
  {
   "cell_type": "code",
   "execution_count": 16,
   "id": "bb667069-a824-4ed2-8704-66a2b03a0d38",
   "metadata": {},
   "outputs": [],
   "source": [
    "def objective_constructor(p, prob_matrix, N_u, Ua, X ) :\n",
    "    objective = 0\n",
    "    j=0\n",
    "    for i in range(2**N_u):\n",
    "        if price_matrix[i,0] == p:\n",
    "            objective = ( objective +  prob_matrix[i,0]*((sum2(ds_vect[0:N,:].T*(Ua[j]* ζ/2 ))\n",
    "              - sum2(ds_vect[0:N,:].T*(pe*X[j][-2,1:] - pe*X[j][-2,0:-1]  ))\n",
    "              - sum1(sum2(ds_vect.T*(price_matrix[i:i+1,:]*θ_list - pe*κ )*X[j][0:n,:])))))\n",
    "            j=j+1\n",
    "    return objective"
   ]
  },
  {
   "cell_type": "code",
   "execution_count": 17,
   "id": "dfeb2eb6-e89c-462d-aaec-f54d3fafbc1d",
   "metadata": {},
   "outputs": [],
   "source": [
    "objective=objective_constructor(p2,prob_matrix, N_u, Ua, X) "
   ]
  },
  {
   "cell_type": "code",
   "execution_count": 18,
   "id": "347eb2d0-5578-457c-9179-8ef761cf4741",
   "metadata": {},
   "outputs": [
    {
     "name": "stdout",
     "output_type": "stream",
     "text": [
      "\n",
      "******************************************************************************\n",
      "This program contains Ipopt, a library for large-scale nonlinear optimization.\n",
      " Ipopt is released as open source code under the Eclipse Public License (EPL).\n",
      "         For more information visit https://github.com/coin-or/Ipopt\n",
      "******************************************************************************\n",
      "\n",
      "Initial, time: 1.2609460353851318\n"
     ]
    }
   ],
   "source": [
    "opti.minimize(objective)\n",
    "# solve optimization problem \n",
    "options = dict()\n",
    "options[\"print_time\"] = False\n",
    "options[\"expand\"]     = True\n",
    "options[\"ipopt\"]      = {\n",
    "                    'print_level': 0,\n",
    "                    'fast_step_computation':            'yes',\n",
    "                    'mu_allow_fast_monotone_decrease':  'yes',\n",
    "                    'warm_start_init_point':            'yes',\n",
    "                        }\n",
    "opti.solver('ipopt',options)\n",
    "\n",
    "t1 = time.time()\n",
    "opti.set_value(ic,vertcat(Z0_list,np.sum(X0_list),1))\n",
    "sol = opti.solve()\n",
    "disp(f'Initial, time: {time.time()-t1}')\n"
   ]
  },
  {
   "cell_type": "code",
   "execution_count": null,
   "id": "cf121624-db89-41be-bf9e-fc37a0a71db6",
   "metadata": {},
   "outputs": [],
   "source": []
  },
  {
   "cell_type": "code",
   "execution_count": 19,
   "id": "96786572-9e70-4657-9264-b6420367966d",
   "metadata": {},
   "outputs": [
    {
     "name": "stdout",
     "output_type": "stream",
     "text": [
      "mpc_step_upper:(i0[3],i1[2406],i2[2808])->(o0,o1,o2[2406],o3[2808]) MXFunction\n",
      "mpc_step_lower:(i0[3],i1[2406],i2[2808])->(o0,o1,o2[2406],o3[2808]) MXFunction\n"
     ]
    },
    {
     "ename": "NameError",
     "evalue": "name 'p_history' is not defined",
     "output_type": "error",
     "traceback": [
      "\u001b[0;31m---------------------------------------------------------------------------\u001b[0m",
      "\u001b[0;31mNameError\u001b[0m                                 Traceback (most recent call last)",
      "Cell \u001b[0;32mIn[19], line 38\u001b[0m\n\u001b[1;32m     36\u001b[0m up_history[:,i] \u001b[38;5;241m=\u001b[39m up\n\u001b[1;32m     37\u001b[0m current_x \u001b[38;5;241m=\u001b[39m F(current_x,um, up)\n\u001b[0;32m---> 38\u001b[0m \u001b[38;5;28;01mif\u001b[39;00m \u001b[43mp_history\u001b[49m[i\u001b[38;5;241m+\u001b[39m\u001b[38;5;241m1\u001b[39m] \u001b[38;5;241m==\u001b[39m p2:\n\u001b[1;32m     39\u001b[0m     [up,um,x,lam] \u001b[38;5;241m=\u001b[39m mpc_step_upper(current_x,x,lam)\n\u001b[1;32m     41\u001b[0m \u001b[38;5;28;01melif\u001b[39;00m p_history[i\u001b[38;5;241m+\u001b[39m\u001b[38;5;241m1\u001b[39m] \u001b[38;5;241m==\u001b[39m p1:\n",
      "\u001b[0;31mNameError\u001b[0m: name 'p_history' is not defined"
     ]
    }
   ],
   "source": [
    "inputs = [ic,opti.x, opti.lam_g]\n",
    "outputs = [Up[0][0],Um[0][0],opti.x, opti.lam_g]\n",
    "current_x = vertcat(Z0_list,np.sum(X0_list),1) \n",
    "\n",
    "objective =objective_constructor(p2,prob_matrix, N_u, Ua, X)  \n",
    "opti.minimize(objective)\n",
    "mpc_step_upper = opti.to_function('mpc_step_upper',inputs,outputs)\n",
    "print(mpc_step_upper)\n",
    "\n",
    "objective =objective_constructor(p1,prob_matrix, N_u, Ua, X)  \n",
    "opti.minimize(objective)\n",
    "mpc_step_lower = opti.to_function('mpc_step_lower',inputs,outputs)\n",
    "print(mpc_step_lower)\n",
    "\n",
    "nn = 12\n",
    "\n",
    "x_history  = DM.zeros(n+2,nn+1)\n",
    "u_history  = DM.zeros(n,nn)\n",
    "\n",
    "um_history = DM.zeros(n,nn)\n",
    "up_history = DM.zeros(n,nn)\n",
    "\n",
    "up  = sol.value(Up[0][0]) \n",
    "um  = sol.value(Um[0][0])\n",
    "\n",
    "x   = sol.value(opti.x)\n",
    "lam = sol.value(opti.lam_g)\n",
    "\n",
    "x_history[:,0] = current_x\n",
    "pre_price = p2\n",
    "\n",
    "t1 = time.time()\n",
    "for i in range(nn):\n",
    "    t0 = time.time()\n",
    "    u_history[:,i]  = up - um\n",
    "    um_history[:,i] = um\n",
    "    up_history[:,i] = up\n",
    "    current_x = F(current_x,um, up)\n",
    "    if pre_price == p2:\n",
    "        [up,um,x,lam] = mpc_step_upper(current_x,x,lam)\n",
    "        pre_price = np.random.default_rng().choice([p1,p2],\n",
    "                                                   size=1, \n",
    "                                                   p=[P[1,0], P[1,1]])\n",
    "    elif pre_price ==p1:\n",
    "        [up,um,x,lam] = mpc_step_lower(current_x,x,lam)\n",
    "        pre_price = np.random.default_rng().choice([p1,p2],\n",
    "                                                   size=1, \n",
    "                                                   p=[P[0,0], P[0,1]])    \n",
    "    x_history[:,i+1] = current_x\n",
    "    disp(f'Year: {i+1}, time: {time.time()-t0}')\n",
    "disp(f'Finale, time: {time.time()-t1}')\n"
   ]
  },
  {
   "cell_type": "code",
   "execution_count": null,
   "id": "a23b9567-a63a-490e-bcdf-c8d3eafce702",
   "metadata": {},
   "outputs": [],
   "source": []
  }
 ],
 "metadata": {
  "kernelspec": {
   "display_name": "Python 3 (ipykernel)",
   "language": "python",
   "name": "python3"
  },
  "language_info": {
   "codemirror_mode": {
    "name": "ipython",
    "version": 3
   },
   "file_extension": ".py",
   "mimetype": "text/x-python",
   "name": "python",
   "nbconvert_exporter": "python",
   "pygments_lexer": "ipython3",
   "version": "3.10.9"
  }
 },
 "nbformat": 4,
 "nbformat_minor": 5
}
