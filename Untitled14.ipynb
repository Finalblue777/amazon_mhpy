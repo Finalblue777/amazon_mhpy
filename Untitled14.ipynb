{
 "cells": [
  {
   "cell_type": "code",
   "execution_count": 2,
   "id": "bbaa4f7e-6a5b-4212-8382-4b86f7dcde11",
   "metadata": {},
   "outputs": [],
   "source": [
    "from pylab import *\n",
    "from casadi import *\n",
    "import time\n",
    "\n",
    "# Required packages\n",
    "import numpy as np\n",
    "import pandas as pd \n",
    "import matplotlib.pyplot as plt"
   ]
  },
  {
   "cell_type": "code",
   "execution_count": 3,
   "id": "107dcfe5-52b4-46a6-b06c-bc809543caf8",
   "metadata": {},
   "outputs": [],
   "source": [
    "#Parameters\n",
    "normalization =1e6\n",
    "δ  = 0.02\n",
    "α  = 0.045007414\n",
    "κ  = 2.094215255\n",
    "pe = 5.15\n",
    "ζ  = 1.66e-4 * normalization \n",
    "p1 = 38.29988757\n",
    "p2 = 44.75876047"
   ]
  },
  {
   "cell_type": "code",
   "execution_count": 4,
   "id": "2efb072a-9ee4-422c-a3b0-47fd2ca0ec3e",
   "metadata": {},
   "outputs": [],
   "source": [
    "#Probability Matrix\n",
    "from scipy.linalg import logm, expm\n",
    "dτ=1/12\n",
    "P = np.matrix([[0.982758621, 0.017241379],[0.012578616, 0.987421384]]) \n",
    "M = logm(P)/dτ\n",
    "m1 = M[0,1]\n",
    "m2 = M[1,0]"
   ]
  },
  {
   "cell_type": "code",
   "execution_count": 5,
   "id": "c3af3657-d068-478c-bae9-fe0f3245e889",
   "metadata": {},
   "outputs": [],
   "source": [
    "#We have to transpose so that Markov transitions correspond to right multiplying by a column vector.  np.linalg.eig finds right eigenvectors.\n",
    "evals, evecs = np.linalg.eig(P.T)\n",
    "evec1 = evecs[:,np.isclose(evals, 1)]\n",
    "\n",
    "#Since np.isclose will return an array, we've indexed with an array\n",
    "#so we still have our 2nd axis.  Get rid of it, since it's only size 1.\n",
    "evec1 = evec1[:,0]\n",
    "\n",
    "stationary = evec1 / evec1.sum()\n",
    "\n",
    "#eigs finds complex eigenvalues and eigenvectors, so you'll want the real part.\n",
    "stationary = stationary.real"
   ]
  },
  {
   "cell_type": "code",
   "execution_count": 6,
   "id": "16b63f1f-0872-4548-b51e-49ecb8436d51",
   "metadata": {},
   "outputs": [
    {
     "data": {
      "text/plain": [
       "matrix([[0.42181818],\n",
       "        [0.57818182]])"
      ]
     },
     "execution_count": 6,
     "metadata": {},
     "output_type": "execute_result"
    }
   ],
   "source": [
    "stationary"
   ]
  },
  {
   "cell_type": "code",
   "execution_count": 7,
   "id": "8b960fe6-32b7-41bd-af7a-c135bd903979",
   "metadata": {},
   "outputs": [
    {
     "data": {
      "text/plain": [
       "42.03429045847068"
      ]
     },
     "execution_count": 7,
     "metadata": {},
     "output_type": "execute_result"
    }
   ],
   "source": [
    "0.42181818* p1 + 0.57818182 * p2"
   ]
  },
  {
   "cell_type": "code",
   "execution_count": 7,
   "id": "a2673bf9-4bdd-4621-8a88-34740ff5bc3a",
   "metadata": {},
   "outputs": [],
   "source": [
    "#Site Data\n",
    "df = pd.read_csv(\"data/calibration_globalModel.csv\")\n",
    "df = df.sort_values(by=['theta_global'])\n",
    "z0_list = np.array([29571693.53])\n",
    "γ_list  = df['gamma_global'].to_numpy()\n",
    "x0_list = np.array([2.15198E+11])\n",
    "θ_list  = df['theta_global'].to_numpy()\n",
    "\n",
    "Z0_list = z0_list/ normalization\n",
    "X0_list = x0_list/ normalization\n",
    "\n",
    "z̄ = (df['zbar_2017_global'].to_numpy() )/normalization\n",
    "n = len(z̄)"
   ]
  },
  {
   "cell_type": "code",
   "execution_count": 26,
   "id": "4f1535f8-1b12-4f6f-8a3f-2dbae7e830d8",
   "metadata": {},
   "outputs": [
    {
     "data": {
      "text/plain": [
       "array([9.25007686e-06])"
      ]
     },
     "execution_count": 26,
     "metadata": {},
     "output_type": "execute_result"
    }
   ],
   "source": [
    "((df['z_2008_global'].to_numpy() - 5.29E+07)/5.29E+07)**2"
   ]
  },
  {
   "cell_type": "code",
   "execution_count": 28,
   "id": "209093e6-7ca4-4f23-affc-d56236c1f1d0",
   "metadata": {},
   "outputs": [
    {
     "data": {
      "text/plain": [
       "array([2.13932976e-05])"
      ]
     },
     "execution_count": 28,
     "metadata": {},
     "output_type": "execute_result"
    }
   ],
   "source": [
    "((df['x_2008_global'].to_numpy() - 2.02E+11)/2.02E+11 )**2 "
   ]
  },
  {
   "cell_type": "code",
   "execution_count": 8,
   "id": "e51e9340-3cb2-4ab6-a0ff-a552618222b2",
   "metadata": {},
   "outputs": [],
   "source": [
    "#Construct Matrix A\n",
    "Az = np.zeros((n, n+2))\n",
    "Ax = np.zeros((1, n+2-0))\n",
    "\n",
    "Ax[0,0:n-0] = -α *γ_list[0:n]\n",
    "Ax[0, -1] = np.sum(α*γ_list[0:n] * z̄[0:n])\n",
    "Ax[0,-2]  = -α\n",
    "\n",
    "A  = np.concatenate((Az, Ax, np.zeros((1, n+2-0))), axis=0)"
   ]
  },
  {
   "cell_type": "code",
   "execution_count": 9,
   "id": "5a66b7b2-0372-4895-ab75-6c932599c492",
   "metadata": {},
   "outputs": [],
   "source": [
    "# Construct Matrix B\n",
    "Bz = np.identity((n-0))\n",
    "Bx = (np.zeros((1,n-0)))\n",
    "\n",
    "B  = np.concatenate((Bz, Bx,  np.zeros((1, n-0))), axis=0)"
   ]
  },
  {
   "cell_type": "code",
   "execution_count": 10,
   "id": "efe404df-1153-4b9f-a379-222a5c9e128c",
   "metadata": {},
   "outputs": [],
   "source": [
    "# Construct Matrix B\n",
    "Dz =   np.zeros((n-0,n-0))\n",
    "Dx = -(np.ones((1,n-0))*γ_list[0:n])\n",
    "\n",
    "D  = np.concatenate((Dz, Dx, np.zeros((1, n-0))), axis=0)"
   ]
  },
  {
   "cell_type": "code",
   "execution_count": 11,
   "id": "7e6c5756-91e5-4ac8-945c-0568fdfe7f0e",
   "metadata": {},
   "outputs": [],
   "source": [
    "T   = 200 \n",
    "N   = T \n",
    "N_u = 2\n",
    "\n",
    "dt = T/N\n",
    "Y  = MX.sym('Y',n+2) \n",
    "up = MX.sym('u',n) \n",
    "um = MX.sym('u',n) \n",
    "\n",
    "rhs = sparsify(A)@Y + sparsify(B)@(up-um) + sparsify(D)@(up) + Y\n",
    "F = Function('f', [Y, um, up],[rhs])\n",
    "\n",
    "import math\n",
    "ds_vect = np.zeros((N+1,1))\n",
    "for i in range(N+1):\n",
    "    ds_vect[i]=math.exp(-δ*i*dt)\n",
    "    \n",
    "P= expm(M*dt)"
   ]
  },
  {
   "cell_type": "code",
   "execution_count": 12,
   "id": "74bc20ad-48cb-4d72-8963-c72ec33dbb91",
   "metadata": {},
   "outputs": [],
   "source": [
    "import itertools\n",
    "markov_array = np.array(list(itertools.product([0, 1], repeat=N_u)))"
   ]
  },
  {
   "cell_type": "code",
   "execution_count": 13,
   "id": "7f49af07-7be2-4f0f-91a4-c25485d7f413",
   "metadata": {},
   "outputs": [],
   "source": [
    "price_matrix = np.zeros((len(markov_array),T+1))\n",
    "price_matrix[:, 0:N_u] = markov_array\n",
    "\n",
    "for i in range((2**N_u)):\n",
    "    price_matrix[i,N_u:] = markov_array[i,-1]\n",
    "    \n",
    "price_matrix[price_matrix==0] = p1\n",
    "price_matrix[price_matrix==1] = p2"
   ]
  },
  {
   "cell_type": "code",
   "execution_count": 14,
   "id": "6bfa7168-f67d-440c-b47c-48ef0451d901",
   "metadata": {},
   "outputs": [
    {
     "data": {
      "text/plain": [
       "array([[38.29988757, 38.29988757, 38.29988757, 38.29988757, 38.29988757,\n",
       "        38.29988757, 38.29988757, 38.29988757, 38.29988757, 38.29988757,\n",
       "        38.29988757, 38.29988757, 38.29988757, 38.29988757, 38.29988757,\n",
       "        38.29988757, 38.29988757, 38.29988757, 38.29988757, 38.29988757,\n",
       "        38.29988757, 38.29988757, 38.29988757, 38.29988757, 38.29988757,\n",
       "        38.29988757, 38.29988757, 38.29988757, 38.29988757, 38.29988757,\n",
       "        38.29988757, 38.29988757, 38.29988757, 38.29988757, 38.29988757,\n",
       "        38.29988757, 38.29988757, 38.29988757, 38.29988757, 38.29988757,\n",
       "        38.29988757, 38.29988757, 38.29988757, 38.29988757, 38.29988757,\n",
       "        38.29988757, 38.29988757, 38.29988757, 38.29988757, 38.29988757,\n",
       "        38.29988757, 38.29988757, 38.29988757, 38.29988757, 38.29988757,\n",
       "        38.29988757, 38.29988757, 38.29988757, 38.29988757, 38.29988757,\n",
       "        38.29988757, 38.29988757, 38.29988757, 38.29988757, 38.29988757,\n",
       "        38.29988757, 38.29988757, 38.29988757, 38.29988757, 38.29988757,\n",
       "        38.29988757, 38.29988757, 38.29988757, 38.29988757, 38.29988757,\n",
       "        38.29988757, 38.29988757, 38.29988757, 38.29988757, 38.29988757,\n",
       "        38.29988757, 38.29988757, 38.29988757, 38.29988757, 38.29988757,\n",
       "        38.29988757, 38.29988757, 38.29988757, 38.29988757, 38.29988757,\n",
       "        38.29988757, 38.29988757, 38.29988757, 38.29988757, 38.29988757,\n",
       "        38.29988757, 38.29988757, 38.29988757, 38.29988757, 38.29988757,\n",
       "        38.29988757, 38.29988757, 38.29988757, 38.29988757, 38.29988757,\n",
       "        38.29988757, 38.29988757, 38.29988757, 38.29988757, 38.29988757,\n",
       "        38.29988757, 38.29988757, 38.29988757, 38.29988757, 38.29988757,\n",
       "        38.29988757, 38.29988757, 38.29988757, 38.29988757, 38.29988757,\n",
       "        38.29988757, 38.29988757, 38.29988757, 38.29988757, 38.29988757,\n",
       "        38.29988757, 38.29988757, 38.29988757, 38.29988757, 38.29988757,\n",
       "        38.29988757, 38.29988757, 38.29988757, 38.29988757, 38.29988757,\n",
       "        38.29988757, 38.29988757, 38.29988757, 38.29988757, 38.29988757,\n",
       "        38.29988757, 38.29988757, 38.29988757, 38.29988757, 38.29988757,\n",
       "        38.29988757, 38.29988757, 38.29988757, 38.29988757, 38.29988757,\n",
       "        38.29988757, 38.29988757, 38.29988757, 38.29988757, 38.29988757,\n",
       "        38.29988757, 38.29988757, 38.29988757, 38.29988757, 38.29988757,\n",
       "        38.29988757, 38.29988757, 38.29988757, 38.29988757, 38.29988757,\n",
       "        38.29988757, 38.29988757, 38.29988757, 38.29988757, 38.29988757,\n",
       "        38.29988757, 38.29988757, 38.29988757, 38.29988757, 38.29988757,\n",
       "        38.29988757, 38.29988757, 38.29988757, 38.29988757, 38.29988757,\n",
       "        38.29988757, 38.29988757, 38.29988757, 38.29988757, 38.29988757,\n",
       "        38.29988757, 38.29988757, 38.29988757, 38.29988757, 38.29988757,\n",
       "        38.29988757, 38.29988757, 38.29988757, 38.29988757, 38.29988757,\n",
       "        38.29988757, 38.29988757, 38.29988757, 38.29988757, 38.29988757,\n",
       "        38.29988757],\n",
       "       [38.29988757, 44.75876047, 44.75876047, 44.75876047, 44.75876047,\n",
       "        44.75876047, 44.75876047, 44.75876047, 44.75876047, 44.75876047,\n",
       "        44.75876047, 44.75876047, 44.75876047, 44.75876047, 44.75876047,\n",
       "        44.75876047, 44.75876047, 44.75876047, 44.75876047, 44.75876047,\n",
       "        44.75876047, 44.75876047, 44.75876047, 44.75876047, 44.75876047,\n",
       "        44.75876047, 44.75876047, 44.75876047, 44.75876047, 44.75876047,\n",
       "        44.75876047, 44.75876047, 44.75876047, 44.75876047, 44.75876047,\n",
       "        44.75876047, 44.75876047, 44.75876047, 44.75876047, 44.75876047,\n",
       "        44.75876047, 44.75876047, 44.75876047, 44.75876047, 44.75876047,\n",
       "        44.75876047, 44.75876047, 44.75876047, 44.75876047, 44.75876047,\n",
       "        44.75876047, 44.75876047, 44.75876047, 44.75876047, 44.75876047,\n",
       "        44.75876047, 44.75876047, 44.75876047, 44.75876047, 44.75876047,\n",
       "        44.75876047, 44.75876047, 44.75876047, 44.75876047, 44.75876047,\n",
       "        44.75876047, 44.75876047, 44.75876047, 44.75876047, 44.75876047,\n",
       "        44.75876047, 44.75876047, 44.75876047, 44.75876047, 44.75876047,\n",
       "        44.75876047, 44.75876047, 44.75876047, 44.75876047, 44.75876047,\n",
       "        44.75876047, 44.75876047, 44.75876047, 44.75876047, 44.75876047,\n",
       "        44.75876047, 44.75876047, 44.75876047, 44.75876047, 44.75876047,\n",
       "        44.75876047, 44.75876047, 44.75876047, 44.75876047, 44.75876047,\n",
       "        44.75876047, 44.75876047, 44.75876047, 44.75876047, 44.75876047,\n",
       "        44.75876047, 44.75876047, 44.75876047, 44.75876047, 44.75876047,\n",
       "        44.75876047, 44.75876047, 44.75876047, 44.75876047, 44.75876047,\n",
       "        44.75876047, 44.75876047, 44.75876047, 44.75876047, 44.75876047,\n",
       "        44.75876047, 44.75876047, 44.75876047, 44.75876047, 44.75876047,\n",
       "        44.75876047, 44.75876047, 44.75876047, 44.75876047, 44.75876047,\n",
       "        44.75876047, 44.75876047, 44.75876047, 44.75876047, 44.75876047,\n",
       "        44.75876047, 44.75876047, 44.75876047, 44.75876047, 44.75876047,\n",
       "        44.75876047, 44.75876047, 44.75876047, 44.75876047, 44.75876047,\n",
       "        44.75876047, 44.75876047, 44.75876047, 44.75876047, 44.75876047,\n",
       "        44.75876047, 44.75876047, 44.75876047, 44.75876047, 44.75876047,\n",
       "        44.75876047, 44.75876047, 44.75876047, 44.75876047, 44.75876047,\n",
       "        44.75876047, 44.75876047, 44.75876047, 44.75876047, 44.75876047,\n",
       "        44.75876047, 44.75876047, 44.75876047, 44.75876047, 44.75876047,\n",
       "        44.75876047, 44.75876047, 44.75876047, 44.75876047, 44.75876047,\n",
       "        44.75876047, 44.75876047, 44.75876047, 44.75876047, 44.75876047,\n",
       "        44.75876047, 44.75876047, 44.75876047, 44.75876047, 44.75876047,\n",
       "        44.75876047, 44.75876047, 44.75876047, 44.75876047, 44.75876047,\n",
       "        44.75876047, 44.75876047, 44.75876047, 44.75876047, 44.75876047,\n",
       "        44.75876047, 44.75876047, 44.75876047, 44.75876047, 44.75876047,\n",
       "        44.75876047, 44.75876047, 44.75876047, 44.75876047, 44.75876047,\n",
       "        44.75876047],\n",
       "       [44.75876047, 38.29988757, 38.29988757, 38.29988757, 38.29988757,\n",
       "        38.29988757, 38.29988757, 38.29988757, 38.29988757, 38.29988757,\n",
       "        38.29988757, 38.29988757, 38.29988757, 38.29988757, 38.29988757,\n",
       "        38.29988757, 38.29988757, 38.29988757, 38.29988757, 38.29988757,\n",
       "        38.29988757, 38.29988757, 38.29988757, 38.29988757, 38.29988757,\n",
       "        38.29988757, 38.29988757, 38.29988757, 38.29988757, 38.29988757,\n",
       "        38.29988757, 38.29988757, 38.29988757, 38.29988757, 38.29988757,\n",
       "        38.29988757, 38.29988757, 38.29988757, 38.29988757, 38.29988757,\n",
       "        38.29988757, 38.29988757, 38.29988757, 38.29988757, 38.29988757,\n",
       "        38.29988757, 38.29988757, 38.29988757, 38.29988757, 38.29988757,\n",
       "        38.29988757, 38.29988757, 38.29988757, 38.29988757, 38.29988757,\n",
       "        38.29988757, 38.29988757, 38.29988757, 38.29988757, 38.29988757,\n",
       "        38.29988757, 38.29988757, 38.29988757, 38.29988757, 38.29988757,\n",
       "        38.29988757, 38.29988757, 38.29988757, 38.29988757, 38.29988757,\n",
       "        38.29988757, 38.29988757, 38.29988757, 38.29988757, 38.29988757,\n",
       "        38.29988757, 38.29988757, 38.29988757, 38.29988757, 38.29988757,\n",
       "        38.29988757, 38.29988757, 38.29988757, 38.29988757, 38.29988757,\n",
       "        38.29988757, 38.29988757, 38.29988757, 38.29988757, 38.29988757,\n",
       "        38.29988757, 38.29988757, 38.29988757, 38.29988757, 38.29988757,\n",
       "        38.29988757, 38.29988757, 38.29988757, 38.29988757, 38.29988757,\n",
       "        38.29988757, 38.29988757, 38.29988757, 38.29988757, 38.29988757,\n",
       "        38.29988757, 38.29988757, 38.29988757, 38.29988757, 38.29988757,\n",
       "        38.29988757, 38.29988757, 38.29988757, 38.29988757, 38.29988757,\n",
       "        38.29988757, 38.29988757, 38.29988757, 38.29988757, 38.29988757,\n",
       "        38.29988757, 38.29988757, 38.29988757, 38.29988757, 38.29988757,\n",
       "        38.29988757, 38.29988757, 38.29988757, 38.29988757, 38.29988757,\n",
       "        38.29988757, 38.29988757, 38.29988757, 38.29988757, 38.29988757,\n",
       "        38.29988757, 38.29988757, 38.29988757, 38.29988757, 38.29988757,\n",
       "        38.29988757, 38.29988757, 38.29988757, 38.29988757, 38.29988757,\n",
       "        38.29988757, 38.29988757, 38.29988757, 38.29988757, 38.29988757,\n",
       "        38.29988757, 38.29988757, 38.29988757, 38.29988757, 38.29988757,\n",
       "        38.29988757, 38.29988757, 38.29988757, 38.29988757, 38.29988757,\n",
       "        38.29988757, 38.29988757, 38.29988757, 38.29988757, 38.29988757,\n",
       "        38.29988757, 38.29988757, 38.29988757, 38.29988757, 38.29988757,\n",
       "        38.29988757, 38.29988757, 38.29988757, 38.29988757, 38.29988757,\n",
       "        38.29988757, 38.29988757, 38.29988757, 38.29988757, 38.29988757,\n",
       "        38.29988757, 38.29988757, 38.29988757, 38.29988757, 38.29988757,\n",
       "        38.29988757, 38.29988757, 38.29988757, 38.29988757, 38.29988757,\n",
       "        38.29988757, 38.29988757, 38.29988757, 38.29988757, 38.29988757,\n",
       "        38.29988757, 38.29988757, 38.29988757, 38.29988757, 38.29988757,\n",
       "        38.29988757],\n",
       "       [44.75876047, 44.75876047, 44.75876047, 44.75876047, 44.75876047,\n",
       "        44.75876047, 44.75876047, 44.75876047, 44.75876047, 44.75876047,\n",
       "        44.75876047, 44.75876047, 44.75876047, 44.75876047, 44.75876047,\n",
       "        44.75876047, 44.75876047, 44.75876047, 44.75876047, 44.75876047,\n",
       "        44.75876047, 44.75876047, 44.75876047, 44.75876047, 44.75876047,\n",
       "        44.75876047, 44.75876047, 44.75876047, 44.75876047, 44.75876047,\n",
       "        44.75876047, 44.75876047, 44.75876047, 44.75876047, 44.75876047,\n",
       "        44.75876047, 44.75876047, 44.75876047, 44.75876047, 44.75876047,\n",
       "        44.75876047, 44.75876047, 44.75876047, 44.75876047, 44.75876047,\n",
       "        44.75876047, 44.75876047, 44.75876047, 44.75876047, 44.75876047,\n",
       "        44.75876047, 44.75876047, 44.75876047, 44.75876047, 44.75876047,\n",
       "        44.75876047, 44.75876047, 44.75876047, 44.75876047, 44.75876047,\n",
       "        44.75876047, 44.75876047, 44.75876047, 44.75876047, 44.75876047,\n",
       "        44.75876047, 44.75876047, 44.75876047, 44.75876047, 44.75876047,\n",
       "        44.75876047, 44.75876047, 44.75876047, 44.75876047, 44.75876047,\n",
       "        44.75876047, 44.75876047, 44.75876047, 44.75876047, 44.75876047,\n",
       "        44.75876047, 44.75876047, 44.75876047, 44.75876047, 44.75876047,\n",
       "        44.75876047, 44.75876047, 44.75876047, 44.75876047, 44.75876047,\n",
       "        44.75876047, 44.75876047, 44.75876047, 44.75876047, 44.75876047,\n",
       "        44.75876047, 44.75876047, 44.75876047, 44.75876047, 44.75876047,\n",
       "        44.75876047, 44.75876047, 44.75876047, 44.75876047, 44.75876047,\n",
       "        44.75876047, 44.75876047, 44.75876047, 44.75876047, 44.75876047,\n",
       "        44.75876047, 44.75876047, 44.75876047, 44.75876047, 44.75876047,\n",
       "        44.75876047, 44.75876047, 44.75876047, 44.75876047, 44.75876047,\n",
       "        44.75876047, 44.75876047, 44.75876047, 44.75876047, 44.75876047,\n",
       "        44.75876047, 44.75876047, 44.75876047, 44.75876047, 44.75876047,\n",
       "        44.75876047, 44.75876047, 44.75876047, 44.75876047, 44.75876047,\n",
       "        44.75876047, 44.75876047, 44.75876047, 44.75876047, 44.75876047,\n",
       "        44.75876047, 44.75876047, 44.75876047, 44.75876047, 44.75876047,\n",
       "        44.75876047, 44.75876047, 44.75876047, 44.75876047, 44.75876047,\n",
       "        44.75876047, 44.75876047, 44.75876047, 44.75876047, 44.75876047,\n",
       "        44.75876047, 44.75876047, 44.75876047, 44.75876047, 44.75876047,\n",
       "        44.75876047, 44.75876047, 44.75876047, 44.75876047, 44.75876047,\n",
       "        44.75876047, 44.75876047, 44.75876047, 44.75876047, 44.75876047,\n",
       "        44.75876047, 44.75876047, 44.75876047, 44.75876047, 44.75876047,\n",
       "        44.75876047, 44.75876047, 44.75876047, 44.75876047, 44.75876047,\n",
       "        44.75876047, 44.75876047, 44.75876047, 44.75876047, 44.75876047,\n",
       "        44.75876047, 44.75876047, 44.75876047, 44.75876047, 44.75876047,\n",
       "        44.75876047, 44.75876047, 44.75876047, 44.75876047, 44.75876047,\n",
       "        44.75876047, 44.75876047, 44.75876047, 44.75876047, 44.75876047,\n",
       "        44.75876047]])"
      ]
     },
     "execution_count": 14,
     "metadata": {},
     "output_type": "execute_result"
    }
   ],
   "source": [
    "price_matrix"
   ]
  },
  {
   "cell_type": "code",
   "execution_count": 15,
   "id": "d83e02b1-df54-419a-9ab8-b51a744be576",
   "metadata": {},
   "outputs": [],
   "source": [
    "price_matrix_df = pd.DataFrame(price_matrix)\n",
    "price_matrix_df.to_csv(f'price_matrix_Nu_{N_u}.csv')"
   ]
  },
  {
   "cell_type": "code",
   "execution_count": 16,
   "id": "51c93d00-cb97-4cfa-9d57-2b48a097b7b4",
   "metadata": {},
   "outputs": [],
   "source": [
    "prob_matrix = np.zeros((2**N_u,1))\n",
    "for i in range(len(markov_array)):\n",
    "    prob_temp = 1 \n",
    "    for j in range(N_u-1):\n",
    "        if markov_array[i,j] ==0:\n",
    "            if markov_array[i,j + 1] == 0:\n",
    "                prob_temp = prob_temp*P[0,0] \n",
    "            elif markov_array[i,j + 1] ==1:\n",
    "                prob_temp= prob_temp*P[0,1] \n",
    "        elif markov_array[i,j] == 1:\n",
    "            if markov_array[i,j + 1] ==0:\n",
    "                prob_temp= prob_temp*P[1,0] \n",
    "            elif markov_array[i,j + 1] ==1:\n",
    "                prob_temp= prob_temp*P[1,1] \n",
    "    prob_matrix[i] =  prob_temp"
   ]
  },
  {
   "cell_type": "code",
   "execution_count": 17,
   "id": "cde874bd-7e2b-4975-8f00-bfd5b40b2cc6",
   "metadata": {},
   "outputs": [
    {
     "data": {
      "text/plain": [
       "array([[0.82387948],\n",
       "       [0.17612052],\n",
       "       [0.12849044],\n",
       "       [0.87150956]])"
      ]
     },
     "execution_count": 17,
     "metadata": {},
     "output_type": "execute_result"
    }
   ],
   "source": [
    "prob_matrix"
   ]
  },
  {
   "cell_type": "code",
   "execution_count": 18,
   "id": "e3d0a358-983e-49d3-bff7-e39dda527114",
   "metadata": {},
   "outputs": [],
   "source": [
    "prob_df=pd.DataFrame(prob_matrix)"
   ]
  },
  {
   "cell_type": "code",
   "execution_count": 19,
   "id": "6999417a-6bc2-4e04-917c-23ec9a517fa1",
   "metadata": {},
   "outputs": [],
   "source": [
    "prob_df.to_csv(f'prob_matrix_Nu_{N_u}.csv')"
   ]
  },
  {
   "cell_type": "code",
   "execution_count": 20,
   "id": "7b3754e5-291b-47f6-b463-210374b23242",
   "metadata": {},
   "outputs": [],
   "source": [
    "opti = casadi.Opti()"
   ]
  },
  {
   "cell_type": "code",
   "execution_count": 19,
   "id": "f60d5496-20d4-45f0-a105-58edb2df48b4",
   "metadata": {},
   "outputs": [],
   "source": [
    "def state_constructor(opti, N_u): \n",
    "    # Decision variables for states\n",
    "    Up=[]\n",
    "    Um=[]\n",
    "    Ua=[]\n",
    "    X =[]\n",
    "\n",
    "    for p in range(2**(N_u-1)):\n",
    "        Up = Up + [opti.variable(n   , N)]\n",
    "        Um = Um + [opti.variable(n   , N)]\n",
    "        Ua = Ua + [opti.variable(1   , N)]\n",
    "        X  = X  + [opti.variable(n+2 , N+1)]\n",
    "\n",
    "    for i in range(2**(N_u-1)):\n",
    "        for k in range(N):\n",
    "            opti.subject_to(X[i][:,k+1]\n",
    "                            == F(X[i][:,k]  ,Um[i][:,k],Up[i][:,k])) \n",
    "\n",
    "    for p in range(2**(N_u-1)):\n",
    "        opti.subject_to(Ua[p] == sum1(Up[p]+Um[p])**2 )\n",
    "    \n",
    "    ic = opti.parameter(n+2,1)\n",
    "    for i in range(2**(N_u-1)):\n",
    "        opti.subject_to(X[i][:,0] == ic)\n",
    "\n",
    "    for i in range(2**(N_u-1)):\n",
    "        opti.subject_to(opti.bounded(0,X [i][0:n,:],z̄  ))\n",
    "        opti.subject_to(opti.bounded(0,Um[i][:  ,:],inf))\n",
    "        opti.subject_to(opti.bounded(0,Up[i][:  ,:],inf))\n",
    "\n",
    "\n",
    "    return X, Up,Um, Ua, ic  "
   ]
  },
  {
   "cell_type": "code",
   "execution_count": 20,
   "id": "2b3f1459-c163-47d4-98f4-0d2930b16203",
   "metadata": {},
   "outputs": [],
   "source": [
    "X, Up,Um, Ua, ic  = state_constructor(opti, N_u)"
   ]
  },
  {
   "cell_type": "code",
   "execution_count": 57,
   "id": "bb667069-a824-4ed2-8704-66a2b03a0d38",
   "metadata": {},
   "outputs": [],
   "source": [
    "def objective_constructor(p, prob_matrix, N_u, Ua, X ) :\n",
    "    objective = 0\n",
    "    j=0\n",
    "    for i in range(2**N_u):\n",
    "        if price_matrix[i,0] == p:\n",
    "            objective = ( objective +  prob_matrix[i,0]*((sum2(ds_vect[0:N,:].T*(Ua[j]* ζ/2 ))\n",
    "              - sum2(ds_vect[0:N,:].T*(pe*X[j][-2,1:] - pe*X[j][-2,0:-1]  ))\n",
    "              - sum1(sum2(ds_vect.T*(price_matrix[i:i+1,:]*θ_list - pe*κ )*X[j][0:n,:])))))\n",
    "            j=j+1\n",
    "    return objective"
   ]
  },
  {
   "cell_type": "code",
   "execution_count": 17,
   "id": "dfeb2eb6-e89c-462d-aaec-f54d3fafbc1d",
   "metadata": {},
   "outputs": [],
   "source": [
    "objective=objective_constructor(p2,prob_matrix, N_u, Ua, X) "
   ]
  },
  {
   "cell_type": "code",
   "execution_count": 18,
   "id": "347eb2d0-5578-457c-9179-8ef761cf4741",
   "metadata": {},
   "outputs": [
    {
     "name": "stdout",
     "output_type": "stream",
     "text": [
      "\n",
      "******************************************************************************\n",
      "This program contains Ipopt, a library for large-scale nonlinear optimization.\n",
      " Ipopt is released as open source code under the Eclipse Public License (EPL).\n",
      "         For more information visit http://projects.coin-or.org/Ipopt\n",
      "******************************************************************************\n",
      "\n",
      "Initial, time: 71.55348587036133\n"
     ]
    }
   ],
   "source": [
    "opti.minimize(objective)\n",
    "# solve optimization problem \n",
    "options = dict()\n",
    "options[\"print_time\"] = False\n",
    "options[\"expand\"]     = True\n",
    "options[\"ipopt\"]      = {\n",
    "                    'print_level': 0,\n",
    "                    'fast_step_computation':            'yes',\n",
    "                    'mu_allow_fast_monotone_decrease':  'yes',\n",
    "                    'warm_start_init_point':            'yes',\n",
    "                        }\n",
    "opti.solver('ipopt',options)\n",
    "\n",
    "t1 = time.time()\n",
    "opti.set_value(ic,vertcat(Z0_list,np.sum(X0_list),1))\n",
    "sol = opti.solve()\n",
    "disp(f'Initial, time: {time.time()-t1}')\n"
   ]
  },
  {
   "cell_type": "code",
   "execution_count": 19,
   "id": "507201ca-8db1-4607-838f-db981846b366",
   "metadata": {},
   "outputs": [],
   "source": [
    "p_history  = np.array([44.75876047, 44.75876047, \n",
    "                       44.75876047, 44.75876047, 44.75876047, 44.75876047,\n",
    "                      44.75876047, 44.75876047, 44.75876047, 38.29988757, \n",
    "                       38.29988757, 38.29988757, 38.29988757, 38.29988757,\n",
    "                       38.29988757, 38.29988757, 44.75876047, 44.75876047, \n",
    "                       38.29988757, 38.29988757, 44.75876047, 44.75876047, 44.75876047])"
   ]
  },
  {
   "cell_type": "code",
   "execution_count": null,
   "id": "96786572-9e70-4657-9264-b6420367966d",
   "metadata": {},
   "outputs": [
    {
     "name": "stdout",
     "output_type": "stream",
     "text": [
      "mpc_step_upper:(i0[3],i1[192192],i2[224256])->(o0,o1,o2[192192],o3[224256]) MXFunction\n",
      "mpc_step_lower:(i0[3],i1[192192],i2[224256])->(o0,o1,o2[192192],o3[224256]) MXFunction\n",
      "Year: 1, time: 24.25995683670044\n",
      "Year: 2, time: 27.753079175949097\n",
      "Year: 3, time: 25.95453119277954\n",
      "Year: 4, time: 25.846552848815918\n",
      "Year: 5, time: 25.3508620262146\n",
      "Year: 6, time: 25.58868670463562\n",
      "Year: 7, time: 25.43337392807007\n",
      "Year: 8, time: 25.417251110076904\n",
      "Year: 9, time: 23.383533000946045\n",
      "Year: 10, time: 23.42194700241089\n"
     ]
    }
   ],
   "source": [
    "inputs = [ic,opti.x, opti.lam_g]\n",
    "outputs = [Up[0][0],Um[0][0],opti.x, opti.lam_g]\n",
    "current_x = vertcat(Z0_list,np.sum(X0_list),1) \n",
    "\n",
    "objective =objective_constructor(p2,prob_matrix, N_u, Ua, X)  \n",
    "opti.minimize(objective)\n",
    "mpc_step_upper = opti.to_function('mpc_step_upper',inputs,outputs)\n",
    "print(mpc_step_upper)\n",
    "\n",
    "objective =objective_constructor(p1,prob_matrix, N_u, Ua, X)  \n",
    "opti.minimize(objective)\n",
    "mpc_step_lower = opti.to_function('mpc_step_lower',inputs,outputs)\n",
    "print(mpc_step_lower)\n",
    "\n",
    "nn = 12\n",
    "\n",
    "x_history  = DM.zeros(n+2,nn+1)\n",
    "u_history  = DM.zeros(n,nn)\n",
    "\n",
    "um_history = DM.zeros(n,nn)\n",
    "up_history = DM.zeros(n,nn)\n",
    "\n",
    "up  = sol.value(Up[0][0]) \n",
    "um  = sol.value(Um[0][0])\n",
    "\n",
    "x   = sol.value(opti.x)\n",
    "lam = sol.value(opti.lam_g)\n",
    "\n",
    "x_history[:,0] = current_x\n",
    "\n",
    "t1 = time.time()\n",
    "for i in range(nn):\n",
    "    t0 = time.time()\n",
    "    u_history[:,i]  = up - um\n",
    "    um_history[:,i] = um\n",
    "    up_history[:,i] = up\n",
    "    current_x = F(current_x,um, up)\n",
    "    if p_history[i+1] == p2:\n",
    "        [up,um,x,lam] = mpc_step_upper(current_x,x,lam)\n",
    "\n",
    "    elif p_history[i+1] == p1:\n",
    "        [up,um,x,lam] = mpc_step_lower(current_x,x,lam)\n",
    "\n",
    "    x_history[:,i+1] = current_x\n",
    "    disp(f'Year: {i+1}, time: {time.time()-t0}')\n",
    "disp(f'Finale, time: {time.time()-t1}')\n"
   ]
  },
  {
   "cell_type": "code",
   "execution_count": null,
   "id": "90e6bfc6-4dbc-41eb-8260-75f0548c1846",
   "metadata": {},
   "outputs": [],
   "source": [
    "plot(x_history[0,:].T)\n",
    "title(f'Z/z̄, δ = {δ}, pe = {pe}')\n",
    "xlabel('Year')\n",
    "show()"
   ]
  },
  {
   "cell_type": "code",
   "execution_count": null,
   "id": "ea8ec380-976c-412a-8f2b-a4d77beae7d2",
   "metadata": {},
   "outputs": [],
   "source": [
    "z2017_list = df['z_2008_global'].to_numpy()\n",
    "x2017_list = df['x_2008_global'].to_numpy()"
   ]
  },
  {
   "cell_type": "code",
   "execution_count": null,
   "id": "415d00b0-c977-4bc2-bfdb-cb1f05a9ef58",
   "metadata": {},
   "outputs": [],
   "source": [
    "((( x_history[0,-1]*normalization - z0_list)/z0_list\n",
    "                                -(z2017_list - z0_list)/z0_list)**2 + (( x_history[1,-1]*normalization - x0_list)/x0_list)**2)"
   ]
  },
  {
   "cell_type": "code",
   "execution_count": 47,
   "id": "b1c25a11-d82f-4807-a011-c96eb842552c",
   "metadata": {},
   "outputs": [
    {
     "data": {
      "text/plain": [
       "DM(0.00429722)"
      ]
     },
     "execution_count": 47,
     "metadata": {},
     "output_type": "execute_result"
    }
   ],
   "source": [
    "((( x_history[0,-1]*normalization - z0_list)/z0_list\n",
    "                                -(z2017_list - z0_list)/z0_list)**2 + (( x_history[1,-1]*normalization - x0_list)/x0_list)**2)\n",
    "\n",
    "\n",
    "\n",
    "\n",
    "\n"
   ]
  },
  {
   "cell_type": "code",
   "execution_count": null,
   "id": "4b66ae4e-35cd-461b-b704-7d5a0360df08",
   "metadata": {},
   "outputs": [],
   "source": []
  },
  {
   "cell_type": "code",
   "execution_count": null,
   "id": "9ed9c1ec-40c5-4678-96f6-f64b3b89d7fa",
   "metadata": {},
   "outputs": [],
   "source": []
  },
  {
   "cell_type": "code",
   "execution_count": null,
   "id": "900bf724-f5bd-4d01-86e2-d57981afbbbc",
   "metadata": {},
   "outputs": [],
   "source": []
  },
  {
   "cell_type": "code",
   "execution_count": null,
   "id": "4060568a-7b6f-4bd0-95f2-345ed33413a4",
   "metadata": {},
   "outputs": [],
   "source": []
  },
  {
   "cell_type": "code",
   "execution_count": null,
   "id": "8086bd32-b870-4953-96fa-d3b5b18eaea3",
   "metadata": {},
   "outputs": [],
   "source": []
  }
 ],
 "metadata": {
  "kernelspec": {
   "display_name": "Python 3 (ipykernel)",
   "language": "python",
   "name": "python3"
  },
  "language_info": {
   "codemirror_mode": {
    "name": "ipython",
    "version": 3
   },
   "file_extension": ".py",
   "mimetype": "text/x-python",
   "name": "python",
   "nbconvert_exporter": "python",
   "pygments_lexer": "ipython3",
   "version": "3.9.7"
  }
 },
 "nbformat": 4,
 "nbformat_minor": 5
}
